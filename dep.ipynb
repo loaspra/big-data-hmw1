{
 "cells": [
  {
   "cell_type": "code",
   "execution_count": 3,
   "metadata": {},
   "outputs": [],
   "source": [
    "import tensorflow as tf\n",
    "from tensorflow import keras\n",
    "model = keras.models.load_model('modelo_1')"
   ]
  },
  {
   "cell_type": "code",
   "execution_count": null,
   "metadata": {},
   "outputs": [],
   "source": [
    "from ctypes import *\n",
    "CDLL(\"C:\\programdata\\Anaconda3\\Lib\\site-packages\\confluent_kafka.libs\\librdkafka-5d2e2910.dll\")\n",
    "from confluent_kafka import Consumer, TopicPartition\n",
    "from redis_manager import StoreRedis\n",
    "from config import REDIS_STORE_KEY\n",
    "import json\n",
    "\n",
    "class DataCapture():\n",
    "  def __init__(self):\n",
    "    self.conf = {\n",
    "      'bootstrap.servers': 'localhost:9092',\n",
    "      'group.id': 'test',\n",
    "      'auto.offset.reset': 'earliest',\n",
    "      'enable.auto.commit': 'false',\n",
    "      'max.poll.interval.ms': 500000,\n",
    "      'session.timeout.ms': 120000,\n",
    "      'request.timeout.ms': 120000,\n",
    "    }\n",
    "    self.store_redis = StoreRedis()\n",
    "    self.store_redis.clear(REDIS_STORE_KEY)\n",
    "  \n",
    "  def consume(self, topic='utec_big_data'):\n",
    "    self.consumer = Consumer(self.conf)\n",
    "    self.topic = topic\n",
    "    self.consumer.subscribe([self.topic])\n",
    "    try:\n",
    "      while True:\n",
    "        print(\"_\")\n",
    "        msg = self.consumer.consume(10)\n",
    "        if msg is None:\n",
    "            continue\n",
    "        \n",
    "        data_batch = []\n",
    "        for i in msg:\n",
    "          value = i.value()\n",
    "          value = value.decode(\"utf-8\")\n",
    "\n",
    "          # prepare for redis\n",
    "          value = json.loads(value)\n",
    "          print(value)\n",
    "          data_batch.append(value)\n",
    "          \n",
    "\n",
    "          partition = i.partition()\n",
    "          offset = i.offset()\n",
    "          self.consumer.commit(\n",
    "            offsets=[TopicPartition(topic=self.topic,\n",
    "                                    partition=partition,\n",
    "                                    offset=offset+1)],asynchronous=False)\n",
    "                        \n",
    "        # store in redis\n",
    "        self.store_redis.request(\n",
    "          REDIS_STORE_KEY, data_batch\n",
    "        )\n",
    "\n",
    "        #user = msg.value()\n",
    "      \n",
    "\n",
    "        #if user is not None:\n",
    "        #    print(f\"partition: {partition}\")\n",
    "        #    print(f\"offset: {offset}\")\n",
    "        #    print(user)\n",
    "            # print(f'User name: {user.name}, '\n",
    "            #       f'favorite number:{user.favorite_number}, '\n",
    "            #       f'favorite color:{user.favorite_color}, '\n",
    "            #       f'twitter handle:{user.twitter_handle}')\n",
    "        # self.consumer.commit([TopicPartition(partition, offset)])\n",
    "        \n",
    "    except KeyboardInterrupt:\n",
    "    \n",
    "      print(\"error\")\n",
    "    print('closing the consumer')\n",
    "    self.consumer.close()\n",
    "\n",
    "  \n",
    "capture = DataCapture()\n",
    "capture.consume('utec_big_data')"
   ]
  },
  {
   "cell_type": "code",
   "execution_count": null,
   "metadata": {},
   "outputs": [],
   "source": [
    "row = {}\n",
    "\n",
    "model.predict()"
   ]
  }
 ],
 "metadata": {
  "interpreter": {
   "hash": "ad2bdc8ecc057115af97d19610ffacc2b4e99fae6737bb82f5d7fb13d2f2c186"
  },
  "kernelspec": {
   "display_name": "Python 3.9.7 ('base')",
   "language": "python",
   "name": "python3"
  },
  "language_info": {
   "codemirror_mode": {
    "name": "ipython",
    "version": 3
   },
   "file_extension": ".py",
   "mimetype": "text/x-python",
   "name": "python",
   "nbconvert_exporter": "python",
   "pygments_lexer": "ipython3",
   "version": "3.9.7"
  },
  "orig_nbformat": 4
 },
 "nbformat": 4,
 "nbformat_minor": 2
}
